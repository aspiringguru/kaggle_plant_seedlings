{
 "cells": [
  {
   "cell_type": "code",
   "execution_count": 1,
   "metadata": {},
   "outputs": [
    {
     "name": "stdout",
     "output_type": "stream",
     "text": [
      "cwd: /home/ec2-user/kaggle/PlantSeedlings\n",
      "sys.version_info(major=3, minor=6, micro=4, releaselevel='final', serial=0)\n"
     ]
    }
   ],
   "source": [
    "import timeit\n",
    "notebook_start_time = timeit.default_timer()\n",
    "import os\n",
    "import random\n",
    "import sys \n",
    "print (\"cwd:\", os.getcwd()) \n",
    "print (sys.version_info)\n",
    "\n",
    "import numpy as np\n",
    "import matplotlib.pyplot as plt\n",
    "import imageio"
   ]
  },
  {
   "cell_type": "code",
   "execution_count": 2,
   "metadata": {},
   "outputs": [],
   "source": [
    "# Put these at the top of every notebook, to get automatic reloading and inline plotting\n",
    "%reload_ext autoreload\n",
    "%autoreload 2\n",
    "%matplotlib inline"
   ]
  },
  {
   "cell_type": "code",
   "execution_count": 3,
   "metadata": {},
   "outputs": [],
   "source": [
    "import torch, cv2"
   ]
  },
  {
   "cell_type": "code",
   "execution_count": 4,
   "metadata": {},
   "outputs": [],
   "source": [
    "# This file contains all the main external libs we'll use\n",
    "os.chdir(\"/home/ec2-user/fastai\")\n",
    "from fastai.imports import *"
   ]
  },
  {
   "cell_type": "code",
   "execution_count": 5,
   "metadata": {},
   "outputs": [],
   "source": [
    "from fastai.transforms import *\n",
    "from fastai.conv_learner import *\n",
    "from fastai.model import *\n",
    "from fastai.dataset import *\n",
    "from fastai.sgdr import *\n",
    "from fastai.plots import *"
   ]
  },
  {
   "cell_type": "code",
   "execution_count": 6,
   "metadata": {},
   "outputs": [],
   "source": [
    "#added by AspiringGuru. \n",
    "import urllib.request \n",
    "import shutil \n",
    "import os.path\n",
    "from sklearn.metrics import accuracy_score"
   ]
  },
  {
   "cell_type": "code",
   "execution_count": 7,
   "metadata": {},
   "outputs": [],
   "source": [
    "PATH = \"/home/ec2-user/kaggleData/seedlings/\"\n",
    "#NB: this dir has had data configured to dir structure expected by fast.ai packages\n",
    "sz=224  #resize images to this size\n"
   ]
  },
  {
   "cell_type": "code",
   "execution_count": 8,
   "metadata": {},
   "outputs": [],
   "source": [
    "DATADIR = \"/home/ec2-user/kaggleData/seedlings/\"\n",
    "TESTDIR = DATADIR + \"test/\"\n",
    "TRAINDIR = DATADIR + \"train/\"\n",
    "VALIDDIR = DATADIR + \"valid/\"\n",
    "train_fraction = 0.2  #train_fraction = train/(train+test)"
   ]
  },
  {
   "cell_type": "code",
   "execution_count": 9,
   "metadata": {},
   "outputs": [
    {
     "name": "stdout",
     "output_type": "stream",
     "text": [
      "<class 'fastai.dataset.ImageClassifierData'>\n"
     ]
    }
   ],
   "source": [
    "arch=resnet34\n",
    "data = ImageClassifierData.from_paths(PATH, tfms=tfms_from_model(arch, sz), test_name=\"test\")\n",
    "print (type(data))"
   ]
  },
  {
   "cell_type": "code",
   "execution_count": 10,
   "metadata": {},
   "outputs": [
    {
     "name": "stdout",
     "output_type": "stream",
     "text": [
      "<class 'fastai.conv_learner.ConvLearner'>\n"
     ]
    }
   ],
   "source": [
    "learn = ConvLearner.pretrained(arch, data, precompute=True)\n",
    "print (type(learn))"
   ]
  },
  {
   "cell_type": "code",
   "execution_count": 11,
   "metadata": {},
   "outputs": [
    {
     "data": {
      "application/vnd.jupyter.widget-view+json": {
       "model_id": "006791b4be764b87b73684337b808cca",
       "version_major": 2,
       "version_minor": 0
      },
      "text/html": [
       "<p>Failed to display Jupyter Widget of type <code>HBox</code>.</p>\n",
       "<p>\n",
       "  If you're reading this message in the Jupyter Notebook or JupyterLab Notebook, it may mean\n",
       "  that the widgets JavaScript is still loading. If this message persists, it\n",
       "  likely means that the widgets JavaScript library is either not installed or\n",
       "  not enabled. See the <a href=\"https://ipywidgets.readthedocs.io/en/stable/user_install.html\">Jupyter\n",
       "  Widgets Documentation</a> for setup instructions.\n",
       "</p>\n",
       "<p>\n",
       "  If you're reading this message in another frontend (for example, a static\n",
       "  rendering on GitHub or <a href=\"https://nbviewer.jupyter.org/\">NBViewer</a>),\n",
       "  it may mean that your frontend doesn't currently support widgets.\n",
       "</p>\n"
      ],
      "text/plain": [
       "HBox(children=(IntProgress(value=0, description='Epoch', max=2), HTML(value='')))"
      ]
     },
     "metadata": {},
     "output_type": "display_data"
    },
    {
     "name": "stdout",
     "output_type": "stream",
     "text": [
      "epoch      trn_loss   val_loss   accuracy                 \n",
      "    0      1.573078   0.959999   0.683292  \n",
      "    1      1.082      0.74131    0.752553                 \n",
      "\n",
      "elapsed time : 2.518248351000011\n"
     ]
    }
   ],
   "source": [
    "start_time = timeit.default_timer()\n",
    "learn.fit(0.01, 2)\n",
    "print (\"elapsed time :\", timeit.default_timer() - start_time)"
   ]
  },
  {
   "cell_type": "code",
   "execution_count": 12,
   "metadata": {},
   "outputs": [],
   "source": [
    "#learn.save('first_model_')"
   ]
  },
  {
   "cell_type": "code",
   "execution_count": 13,
   "metadata": {},
   "outputs": [],
   "source": [
    "#learn.load('first_model_')"
   ]
  },
  {
   "cell_type": "code",
   "execution_count": 14,
   "metadata": {},
   "outputs": [
    {
     "data": {
      "text/plain": [
       "(numpy.ndarray,\n",
       " (3803,),\n",
       " array([0, 0, 0, 0, 0]),\n",
       " array([ 0,  1,  2,  3,  4,  5,  6,  7,  8,  9, 10, 11]))"
      ]
     },
     "execution_count": 14,
     "metadata": {},
     "output_type": "execute_result"
    }
   ],
   "source": [
    "type(data.trn_ds.y), data.trn_ds.y.shape, data.trn_ds.y[0:5], np.unique(data.trn_ds.y)"
   ]
  },
  {
   "cell_type": "code",
   "execution_count": 15,
   "metadata": {},
   "outputs": [
    {
     "data": {
      "text/plain": [
       "(numpy.ndarray,\n",
       " (947,),\n",
       " array([0, 0, 0, 0, 0]),\n",
       " array([ 0,  1,  2,  3,  4,  5,  6,  7,  8,  9, 10, 11]))"
      ]
     },
     "execution_count": 15,
     "metadata": {},
     "output_type": "execute_result"
    }
   ],
   "source": [
    "type(data.val_ds.y), data.val_ds.y.shape, data.val_ds.y[0:5], np.unique(data.val_ds.y)"
   ]
  },
  {
   "cell_type": "code",
   "execution_count": 16,
   "metadata": {},
   "outputs": [
    {
     "name": "stdout",
     "output_type": "stream",
     "text": [
      "<class 'fastai.dataset.FilesIndexArrayDataset'>\n",
      "(794, 1)\n",
      "['__add__', '__class__', '__delattr__', '__dict__', '__dir__', '__doc__', '__eq__', '__format__', '__ge__', '__getattribute__', '__getitem__', '__gt__', '__hash__', '__init__', '__init_subclass__', '__le__', '__len__', '__lt__', '__module__', '__ne__', '__new__', '__reduce__', '__reduce_ex__', '__repr__', '__setattr__', '__sizeof__', '__str__', '__subclasshook__', '__weakref__', 'c', 'denorm', 'fnames', 'get', 'get_c', 'get_n', 'get_sz', 'get_x', 'get_y', 'is_multi', 'is_reg', 'n', 'path', 'resize_imgs', 'sz', 'transform', 'y']\n",
      "[0.]\n",
      "<class 'list'> ['test/7f46a71db.png', 'test/f4ad9d950.png', 'test/e901b0f28.png', 'test/c6b76307d.png', 'test/148bbda66.png']\n"
     ]
    }
   ],
   "source": [
    "print (type(data.test_ds))\n",
    "print (data.test_ds.y.shape)\n",
    "print (dir(data.test_ds))\n",
    "print (np.unique(data.test_ds.y))\n",
    "print (type(data.test_ds.fnames), data.test_ds.fnames[0:5])"
   ]
  },
  {
   "cell_type": "code",
   "execution_count": 17,
   "metadata": {},
   "outputs": [
    {
     "name": "stdout",
     "output_type": "stream",
     "text": [
      "['Black-grass', 'Charlock', 'Cleavers', 'Common Chickweed', 'Common wheat', 'Fat Hen', 'Loose Silky-bent', 'Maize', 'Scentless Mayweed', 'Shepherds Purse', 'Small-flowered Cranesbill', 'Sugar beet']\n"
     ]
    }
   ],
   "source": [
    "classes = data.classes\n",
    "print (classes)"
   ]
  },
  {
   "cell_type": "code",
   "execution_count": 18,
   "metadata": {},
   "outputs": [
    {
     "name": "stdout",
     "output_type": "stream",
     "text": [
      "log_preds.shape: (947, 12)\n"
     ]
    }
   ],
   "source": [
    "# this gives prediction for validation set. Predictions are in log scale\n",
    "log_preds = learn.predict()\n",
    "print (\"log_preds.shape:\", log_preds.shape)"
   ]
  },
  {
   "cell_type": "code",
   "execution_count": 19,
   "metadata": {},
   "outputs": [
    {
     "name": "stdout",
     "output_type": "stream",
     "text": [
      "log_preds.shape: (947, 12)\n",
      "preds: <class 'numpy.ndarray'> (947,) [0 0 6 3 6] [ 0  1  2  3  4  5  6  7  8  9 10 11]\n",
      "probs: <class 'numpy.ndarray'> (947,) [0.01819 0.00005 0.00264 0.01902 0.00005] max: 0.9994823 , min: 6.878065e-07\n"
     ]
    }
   ],
   "source": [
    "preds = np.argmax(log_preds, axis=1)  # from log probabilities to 0 or 1\n",
    "#find category by col number of maximum probability.\n",
    "\n",
    "probs = np.exp(log_preds[:,1])        # pr(dog)\n",
    "print (\"log_preds.shape:\", log_preds.shape)\n",
    "print (\"preds:\", type(preds), preds.shape, preds[0:5], np.unique(preds))\n",
    "print (\"probs:\", type(probs), probs.shape, probs[0:5], \"max:\", probs.max(), \", min:\", probs.min())"
   ]
  },
  {
   "cell_type": "code",
   "execution_count": 20,
   "metadata": {},
   "outputs": [
    {
     "name": "stdout",
     "output_type": "stream",
     "text": [
      "accuracy for simplest model on validation dataset :  0.7518479408658922\n"
     ]
    }
   ],
   "source": [
    "acc = accuracy_score(data.val_ds.y, preds)\n",
    "print (\"accuracy for simplest model on validation dataset : \", acc)"
   ]
  },
  {
   "cell_type": "code",
   "execution_count": 21,
   "metadata": {},
   "outputs": [
    {
     "name": "stdout",
     "output_type": "stream",
     "text": [
      "test_log_preds: <class 'numpy.ndarray'> (794, 12)\n",
      "test_preds: <class 'numpy.ndarray'> (794,)\n"
     ]
    }
   ],
   "source": [
    "test_log_preds = learn.predict(is_test=True)\n",
    "test_preds = np.argmax(test_log_preds, axis=1)  # from log probabilities to 0 or 1\n",
    "print (\"test_log_preds:\", type(test_log_preds), test_log_preds.shape)\n",
    "print (\"test_preds:\", type(test_preds), test_preds.shape)"
   ]
  },
  {
   "cell_type": "code",
   "execution_count": 22,
   "metadata": {},
   "outputs": [],
   "source": [
    "def rand_by_mask(mask, num_selected=4): \n",
    "    return np.random.choice(np.where(mask)[0], num_selected, replace=False)\n",
    "def rand_by_correct(is_correct, num_selected=4): \n",
    "    return rand_by_mask((preds == data.val_y)==is_correct, num_selected)"
   ]
  },
  {
   "cell_type": "code",
   "execution_count": 23,
   "metadata": {},
   "outputs": [],
   "source": [
    "def plots(ims, figsize=(12,6), rows=1, titles=None):\n",
    "    f = plt.figure(figsize=figsize)\n",
    "    for i in range(len(ims)):\n",
    "        sp = f.add_subplot(rows, len(ims)//rows, i+1)\n",
    "        sp.axis('Off')\n",
    "        if titles is not None: sp.set_title(titles[i], fontsize=16)\n",
    "        plt.imshow(ims[i])"
   ]
  },
  {
   "cell_type": "code",
   "execution_count": 24,
   "metadata": {},
   "outputs": [],
   "source": [
    "def load_img_id(ds, idx): \n",
    "    return np.array(PIL.Image.open(PATH+ds.fnames[idx]))\n",
    "\n",
    "def plot_val_with_title(idxs, title):\n",
    "    imgs = [load_img_id(data.val_ds,x) for x in idxs]\n",
    "    title_probs = [probs[x] for x in idxs]\n",
    "    print(title)\n",
    "    \n",
    "    return plots(imgs, rows=1, titles=title_probs, figsize=(16,8))"
   ]
  },
  {
   "cell_type": "code",
   "execution_count": 25,
   "metadata": {},
   "outputs": [],
   "source": [
    "def most_by_mask(mask, mult, num_selected=4):\n",
    "    idxs = np.where(mask)[0]\n",
    "    return idxs[np.argsort(mult * probs[idxs])[:num_selected]]\n",
    "\n",
    "def most_by_correct(y, is_correct, num_selected=4): \n",
    "    mult = -1 if (y==1)==is_correct else 1\n",
    "    return most_by_mask(((preds == data.val_y)==is_correct) & (data.val_y == y), mult, num_selected)"
   ]
  },
  {
   "cell_type": "code",
   "execution_count": 26,
   "metadata": {},
   "outputs": [],
   "source": [
    "learn = ConvLearner.pretrained(arch, data, precompute=True)"
   ]
  },
  {
   "cell_type": "code",
   "execution_count": 27,
   "metadata": {},
   "outputs": [
    {
     "data": {
      "application/vnd.jupyter.widget-view+json": {
       "model_id": "409a8c03073a4903b967d9403a9c24bf",
       "version_major": 2,
       "version_minor": 0
      },
      "text/html": [
       "<p>Failed to display Jupyter Widget of type <code>HBox</code>.</p>\n",
       "<p>\n",
       "  If you're reading this message in the Jupyter Notebook or JupyterLab Notebook, it may mean\n",
       "  that the widgets JavaScript is still loading. If this message persists, it\n",
       "  likely means that the widgets JavaScript library is either not installed or\n",
       "  not enabled. See the <a href=\"https://ipywidgets.readthedocs.io/en/stable/user_install.html\">Jupyter\n",
       "  Widgets Documentation</a> for setup instructions.\n",
       "</p>\n",
       "<p>\n",
       "  If you're reading this message in another frontend (for example, a static\n",
       "  rendering on GitHub or <a href=\"https://nbviewer.jupyter.org/\">NBViewer</a>),\n",
       "  it may mean that your frontend doesn't currently support widgets.\n",
       "</p>\n"
      ],
      "text/plain": [
       "HBox(children=(IntProgress(value=0, description='Epoch', max=1), HTML(value='')))"
      ]
     },
     "metadata": {},
     "output_type": "display_data"
    },
    {
     "name": "stdout",
     "output_type": "stream",
     "text": [
      " 85%|████████▌ | 51/60 [00:00<00:00, 52.50it/s, loss=17.6]\n",
      "elapsed time : 1.0046054970000569                         \n"
     ]
    }
   ],
   "source": [
    "start_time = timeit.default_timer()\n",
    "lrf=learn.lr_find()\n",
    "print (\"elapsed time :\", timeit.default_timer() - start_time)\n"
   ]
  },
  {
   "cell_type": "code",
   "execution_count": 28,
   "metadata": {},
   "outputs": [
    {
     "name": "stdout",
     "output_type": "stream",
     "text": [
      "validate_log_preds: <class 'numpy.ndarray'> (947, 12)\n",
      "validate_preds: <class 'numpy.ndarray'> (947,) [ 0  1  2  3  4  5  6  7  8 11]\n"
     ]
    }
   ],
   "source": [
    "#show the accuracy and confusion matrix\n",
    "validate_log_preds = learn.predict(is_test=False)\n",
    "print (\"validate_log_preds:\", type(validate_log_preds), validate_log_preds.shape)\n",
    "validate_preds = np.argmax(validate_log_preds, axis=1)  # from log probabilities to 0 or 1\n",
    "print (\"validate_preds:\", type(validate_preds), validate_preds.shape, np.unique(validate_preds))"
   ]
  },
  {
   "cell_type": "code",
   "execution_count": 29,
   "metadata": {},
   "outputs": [
    {
     "name": "stdout",
     "output_type": "stream",
     "text": [
      "accuracy for simplest model on validation dataset :  0.0781414994720169\n"
     ]
    }
   ],
   "source": [
    "acc = accuracy_score(data.val_ds.y, validate_preds)\n",
    "print (\"accuracy for simplest model on validation dataset : \", acc)\n",
    "#acc is very low. prob wrong because just calc'd lr_find"
   ]
  },
  {
   "cell_type": "code",
   "execution_count": 30,
   "metadata": {},
   "outputs": [
    {
     "data": {
      "text/plain": [
       "array([[ 2,  8,  2,  0, 18,  0, 18,  0,  0,  0,  0,  4],\n",
       "       [11,  4,  2,  0, 43,  0, 17,  1,  0,  0,  0,  0],\n",
       "       [ 6,  2,  0,  0, 43,  0,  2,  0,  2,  0,  0,  2],\n",
       "       [ 9, 11,  0,  0, 93,  0,  7,  0,  2,  0,  0,  0],\n",
       "       [ 1,  8,  1,  0, 20,  0,  9,  0,  1,  0,  0,  4],\n",
       "       [ 9,  3,  2,  0, 65,  0,  8,  3,  0,  0,  0,  5],\n",
       "       [ 6,  4,  2,  1, 74,  2, 36,  0,  2,  0,  0,  3],\n",
       "       [ 4,  8,  6,  0,  7,  0,  5,  2,  2,  0,  0, 10],\n",
       "       [ 9,  5,  1,  0, 78,  0,  7,  1,  2,  0,  0,  0],\n",
       "       [ 8,  3,  0,  0, 32,  0,  2,  0,  1,  0,  0,  0],\n",
       "       [16,  0,  0,  0, 54,  5, 19,  1,  3,  0,  0,  1],\n",
       "       [ 3, 20,  1,  0, 31,  0, 13,  1,  0,  0,  0,  8]])"
      ]
     },
     "execution_count": 30,
     "metadata": {},
     "output_type": "execute_result"
    }
   ],
   "source": [
    "confusion_matrix(data.val_ds.y, validate_preds)"
   ]
  },
  {
   "cell_type": "code",
   "execution_count": 31,
   "metadata": {},
   "outputs": [
    {
     "data": {
      "image/png": "[encoded data removed]",
      "text/plain": [
       "<Figure size 432x288 with 1 Axes>"
      ]
     },
     "metadata": {},
     "output_type": "display_data"
    }
   ],
   "source": [
    "learn.sched.plot_lr()"
   ]
  },
  {
   "cell_type": "code",
   "execution_count": 32,
   "metadata": {},
   "outputs": [
    {
     "data": {
      "image/png": "[encoded data removed]",
      "text/plain": [
       "<Figure size 432x288 with 1 Axes>"
      ]
     },
     "metadata": {},
     "output_type": "display_data"
    }
   ],
   "source": [
    "learn.sched.plot()"
   ]
  },
  {
   "cell_type": "code",
   "execution_count": 33,
   "metadata": {},
   "outputs": [],
   "source": [
    "#tfms = tfms_from_model(resnet34, sz, aug_tfms=transforms_side_on, max_zoom=1.1)\n",
    "tfms=tfms_from_model(resnet34, sz)"
   ]
  },
  {
   "cell_type": "code",
   "execution_count": 34,
   "metadata": {},
   "outputs": [
    {
     "name": "stdout",
     "output_type": "stream",
     "text": [
      "train data------------------------------------------------------------\n",
      "<class 'numpy.ndarray'> (3803,) [0 0 0 0 0] [ 0  1  2  3  4  5  6  7  8  9 10 11]\n",
      "validation data-------------------------------------------------------\n",
      "<class 'numpy.ndarray'> (947,) [0 0 0 0 0] [ 0  1  2  3  4  5  6  7  8  9 10 11]\n",
      "test data-------------------------------------------------------\n",
      "<class 'fastai.dataset.FilesIndexArrayDataset'>\n",
      "(794, 1)\n",
      "[0.]\n",
      "<class 'list'> ['test/7f46a71db.png', 'test/f4ad9d950.png', 'test/e901b0f28.png', 'test/c6b76307d.png', 'test/148bbda66.png']\n"
     ]
    }
   ],
   "source": [
    "print (\"train data------------------------------------------------------------\")\n",
    "print (type(data.trn_ds.y), data.trn_ds.y.shape, data.trn_ds.y[0:5], np.unique(data.trn_ds.y))\n",
    "print (\"validation data-------------------------------------------------------\")\n",
    "print (type(data.val_ds.y), data.val_ds.y.shape, data.val_ds.y[0:5], np.unique(data.val_ds.y))\n",
    "print (\"test data-------------------------------------------------------\")\n",
    "print (type(data.test_ds))\n",
    "print (data.test_ds.y.shape)\n",
    "print (np.unique(data.test_ds.y))\n",
    "print (type(data.test_ds.fnames), data.test_ds.fnames[0:5])"
   ]
  },
  {
   "cell_type": "code",
   "execution_count": 35,
   "metadata": {},
   "outputs": [],
   "source": [
    "data = ImageClassifierData.from_paths(PATH, tfms=tfms)\n",
    "learn = ConvLearner.pretrained(arch, data, precompute=True)"
   ]
  },
  {
   "cell_type": "code",
   "execution_count": 36,
   "metadata": {},
   "outputs": [
    {
     "name": "stdout",
     "output_type": "stream",
     "text": [
      "train data------------------------------------------------------------\n",
      "<class 'numpy.ndarray'> (3803,) [0 0 0 0 0] [ 0  1  2  3  4  5  6  7  8  9 10 11]\n",
      "validation data-------------------------------------------------------\n",
      "<class 'numpy.ndarray'> (947,) [0 0 0 0 0] [ 0  1  2  3  4  5  6  7  8  9 10 11]\n",
      "test data-------------------------------------------------------\n"
     ]
    },
    {
     "ename": "AttributeError",
     "evalue": "'NoneType' object has no attribute 'dataset'",
     "output_type": "error",
     "traceback": [
      "\u001b[0;31m---------------------------------------------------------------------------\u001b[0m",
      "\u001b[0;31mAttributeError\u001b[0m                            Traceback (most recent call last)",
      "\u001b[0;32m<ipython-input-36-c6962e02bc25>\u001b[0m in \u001b[0;36m<module>\u001b[0;34m()\u001b[0m\n\u001b[1;32m      4\u001b[0m \u001b[0mprint\u001b[0m \u001b[0;34m(\u001b[0m\u001b[0mtype\u001b[0m\u001b[0;34m(\u001b[0m\u001b[0mdata\u001b[0m\u001b[0;34m.\u001b[0m\u001b[0mval_ds\u001b[0m\u001b[0;34m.\u001b[0m\u001b[0my\u001b[0m\u001b[0;34m)\u001b[0m\u001b[0;34m,\u001b[0m \u001b[0mdata\u001b[0m\u001b[0;34m.\u001b[0m\u001b[0mval_ds\u001b[0m\u001b[0;34m.\u001b[0m\u001b[0my\u001b[0m\u001b[0;34m.\u001b[0m\u001b[0mshape\u001b[0m\u001b[0;34m,\u001b[0m \u001b[0mdata\u001b[0m\u001b[0;34m.\u001b[0m\u001b[0mval_ds\u001b[0m\u001b[0;34m.\u001b[0m\u001b[0my\u001b[0m\u001b[0;34m[\u001b[0m\u001b[0;36m0\u001b[0m\u001b[0;34m:\u001b[0m\u001b[0;36m5\u001b[0m\u001b[0;34m]\u001b[0m\u001b[0;34m,\u001b[0m \u001b[0mnp\u001b[0m\u001b[0;34m.\u001b[0m\u001b[0munique\u001b[0m\u001b[0;34m(\u001b[0m\u001b[0mdata\u001b[0m\u001b[0;34m.\u001b[0m\u001b[0mval_ds\u001b[0m\u001b[0;34m.\u001b[0m\u001b[0my\u001b[0m\u001b[0;34m)\u001b[0m\u001b[0;34m)\u001b[0m\u001b[0;34m\u001b[0m\u001b[0m\n\u001b[1;32m      5\u001b[0m \u001b[0mprint\u001b[0m \u001b[0;34m(\u001b[0m\u001b[0;34m\"test data-------------------------------------------------------\"\u001b[0m\u001b[0;34m)\u001b[0m\u001b[0;34m\u001b[0m\u001b[0m\n\u001b[0;32m----> 6\u001b[0;31m \u001b[0mprint\u001b[0m \u001b[0;34m(\u001b[0m\u001b[0mtype\u001b[0m\u001b[0;34m(\u001b[0m\u001b[0mdata\u001b[0m\u001b[0;34m.\u001b[0m\u001b[0mtest_ds\u001b[0m\u001b[0;34m)\u001b[0m\u001b[0;34m)\u001b[0m\u001b[0;34m\u001b[0m\u001b[0m\n\u001b[0m\u001b[1;32m      7\u001b[0m \u001b[0mprint\u001b[0m \u001b[0;34m(\u001b[0m\u001b[0mdata\u001b[0m\u001b[0;34m.\u001b[0m\u001b[0mtest_ds\u001b[0m\u001b[0;34m.\u001b[0m\u001b[0my\u001b[0m\u001b[0;34m.\u001b[0m\u001b[0mshape\u001b[0m\u001b[0;34m)\u001b[0m\u001b[0;34m\u001b[0m\u001b[0m\n\u001b[1;32m      8\u001b[0m \u001b[0mprint\u001b[0m \u001b[0;34m(\u001b[0m\u001b[0mnp\u001b[0m\u001b[0;34m.\u001b[0m\u001b[0munique\u001b[0m\u001b[0;34m(\u001b[0m\u001b[0mdata\u001b[0m\u001b[0;34m.\u001b[0m\u001b[0mtest_ds\u001b[0m\u001b[0;34m.\u001b[0m\u001b[0my\u001b[0m\u001b[0;34m)\u001b[0m\u001b[0;34m)\u001b[0m\u001b[0;34m\u001b[0m\u001b[0m\n",
      "\u001b[0;32m~/fastai/fastai/dataset.py\u001b[0m in \u001b[0;36mtest_ds\u001b[0;34m(self)\u001b[0m\n\u001b[1;32m    307\u001b[0m     \u001b[0;32mdef\u001b[0m \u001b[0mval_ds\u001b[0m\u001b[0;34m(\u001b[0m\u001b[0mself\u001b[0m\u001b[0;34m)\u001b[0m\u001b[0;34m:\u001b[0m \u001b[0;32mreturn\u001b[0m \u001b[0mself\u001b[0m\u001b[0;34m.\u001b[0m\u001b[0mval_dl\u001b[0m\u001b[0;34m.\u001b[0m\u001b[0mdataset\u001b[0m\u001b[0;34m\u001b[0m\u001b[0m\n\u001b[1;32m    308\u001b[0m     \u001b[0;34m@\u001b[0m\u001b[0mproperty\u001b[0m\u001b[0;34m\u001b[0m\u001b[0m\n\u001b[0;32m--> 309\u001b[0;31m     \u001b[0;32mdef\u001b[0m \u001b[0mtest_ds\u001b[0m\u001b[0;34m(\u001b[0m\u001b[0mself\u001b[0m\u001b[0;34m)\u001b[0m\u001b[0;34m:\u001b[0m \u001b[0;32mreturn\u001b[0m \u001b[0mself\u001b[0m\u001b[0;34m.\u001b[0m\u001b[0mtest_dl\u001b[0m\u001b[0;34m.\u001b[0m\u001b[0mdataset\u001b[0m\u001b[0;34m\u001b[0m\u001b[0m\n\u001b[0m\u001b[1;32m    310\u001b[0m     \u001b[0;34m@\u001b[0m\u001b[0mproperty\u001b[0m\u001b[0;34m\u001b[0m\u001b[0m\n\u001b[1;32m    311\u001b[0m     \u001b[0;32mdef\u001b[0m \u001b[0mtrn_y\u001b[0m\u001b[0;34m(\u001b[0m\u001b[0mself\u001b[0m\u001b[0;34m)\u001b[0m\u001b[0;34m:\u001b[0m \u001b[0;32mreturn\u001b[0m \u001b[0mself\u001b[0m\u001b[0;34m.\u001b[0m\u001b[0mtrn_ds\u001b[0m\u001b[0;34m.\u001b[0m\u001b[0my\u001b[0m\u001b[0;34m\u001b[0m\u001b[0m\n",
      "\u001b[0;31mAttributeError\u001b[0m: 'NoneType' object has no attribute 'dataset'"
     ]
    }
   ],
   "source": [
    "print (\"train data------------------------------------------------------------\")\n",
    "print (type(data.trn_ds.y), data.trn_ds.y.shape, data.trn_ds.y[0:5], np.unique(data.trn_ds.y))\n",
    "print (\"validation data-------------------------------------------------------\")\n",
    "print (type(data.val_ds.y), data.val_ds.y.shape, data.val_ds.y[0:5], np.unique(data.val_ds.y))\n",
    "print (\"test data-------------------------------------------------------\")\n",
    "print (type(data.test_ds))\n",
    "print (data.test_ds.y.shape)\n",
    "print (np.unique(data.test_ds.y))\n",
    "print (type(data.test_ds.fnames), data.test_ds.fnames[0:5])"
   ]
  },
  {
   "cell_type": "code",
   "execution_count": null,
   "metadata": {},
   "outputs": [],
   "source": [
    "start_time = timeit.default_timer()\n",
    "print (learn.fit(1e-2, 1))\n",
    "print (\"elapsed time :\", timeit.default_timer() - start_time)"
   ]
  },
  {
   "cell_type": "code",
   "execution_count": null,
   "metadata": {},
   "outputs": [],
   "source": [
    "learn.precompute=False"
   ]
  },
  {
   "cell_type": "code",
   "execution_count": 37,
   "metadata": {},
   "outputs": [
    {
     "data": {
      "application/vnd.jupyter.widget-view+json": {
       "model_id": "5dea20cf40a84745968bb9b5a8148bd9",
       "version_major": 2,
       "version_minor": 0
      },
      "text/html": [
       "<p>Failed to display Jupyter Widget of type <code>HBox</code>.</p>\n",
       "<p>\n",
       "  If you're reading this message in the Jupyter Notebook or JupyterLab Notebook, it may mean\n",
       "  that the widgets JavaScript is still loading. If this message persists, it\n",
       "  likely means that the widgets JavaScript library is either not installed or\n",
       "  not enabled. See the <a href=\"https://ipywidgets.readthedocs.io/en/stable/user_install.html\">Jupyter\n",
       "  Widgets Documentation</a> for setup instructions.\n",
       "</p>\n",
       "<p>\n",
       "  If you're reading this message in another frontend (for example, a static\n",
       "  rendering on GitHub or <a href=\"https://nbviewer.jupyter.org/\">NBViewer</a>),\n",
       "  it may mean that your frontend doesn't currently support widgets.\n",
       "</p>\n"
      ],
      "text/plain": [
       "HBox(children=(IntProgress(value=0, description='Epoch', max=3), HTML(value='')))"
      ]
     },
     "metadata": {},
     "output_type": "display_data"
    },
    {
     "name": "stdout",
     "output_type": "stream",
     "text": [
      "epoch      trn_loss   val_loss   accuracy                 \n",
      "    0      1.694133   1.168119   0.632761  \n",
      "    1      1.248337   0.896063   0.708558                 \n",
      "    2      1.026012   0.791487   0.743444                 \n",
      "\n",
      "elapsed time : 3.538917665000099\n"
     ]
    }
   ],
   "source": [
    "start_time = timeit.default_timer()\n",
    "learn.fit(1e-2, 3, cycle_len=1)\n",
    "print (\"elapsed time :\", timeit.default_timer() - start_time)\n",
    "#nb: looks like could run more epochs to get better result."
   ]
  },
  {
   "cell_type": "code",
   "execution_count": 38,
   "metadata": {},
   "outputs": [
    {
     "data": {
      "image/png": "[encoded data removed]",
      "text/plain": [
       "<Figure size 432x288 with 1 Axes>"
      ]
     },
     "metadata": {},
     "output_type": "display_data"
    }
   ],
   "source": [
    "learn.sched.plot_lr()"
   ]
  },
  {
   "cell_type": "code",
   "execution_count": 39,
   "metadata": {},
   "outputs": [
    {
     "name": "stdout",
     "output_type": "stream",
     "text": [
      "elapsed time : 0.9306060700000671            \n",
      "type(probs): <class 'numpy.ndarray'> (947, 12)\n"
     ]
    }
   ],
   "source": [
    "#lets look at accuracy and confusion matrix now.\n",
    "start_time = timeit.default_timer()\n",
    "log_preds,y = learn.TTA()\n",
    "probs = np.mean(np.exp(log_preds),0)\n",
    "print (\"elapsed time :\", timeit.default_timer() - start_time)\n",
    "print (\"type(probs):\", type(probs), probs.shape)"
   ]
  },
  {
   "cell_type": "code",
   "execution_count": 40,
   "metadata": {},
   "outputs": [
    {
     "data": {
      "text/plain": [
       "((947, 12), array([[0.61039, 0.00181],\n",
       "        [0.68138, 0.00144],\n",
       "        [0.44938, 0.00082],\n",
       "        ...,\n",
       "        [0.0823 , 0.00226],\n",
       "        [0.0003 , 0.00018],\n",
       "        [0.0001 , 0.00001]], dtype=float32))"
      ]
     },
     "execution_count": 40,
     "metadata": {},
     "output_type": "execute_result"
    }
   ],
   "source": [
    "#nb :type(learn)) #https://github.com/aspiringguru/fastai/blob/master/fastai/conv_learner.py\n",
    "probs.shape, probs[:, 0:2]"
   ]
  },
  {
   "cell_type": "code",
   "execution_count": 41,
   "metadata": {},
   "outputs": [
    {
     "data": {
      "text/plain": [
       "((947,), array([ 0,  1,  2,  3,  4,  5,  6,  7,  8,  9, 10, 11]))"
      ]
     },
     "execution_count": 41,
     "metadata": {},
     "output_type": "execute_result"
    }
   ],
   "source": [
    "preds = np.argmax(probs, axis=1)\n",
    "preds.shape, np.unique(preds)"
   ]
  },
  {
   "cell_type": "code",
   "execution_count": 42,
   "metadata": {},
   "outputs": [
    {
     "name": "stdout",
     "output_type": "stream",
     "text": [
      "accuracy for simplest model on validation dataset :  0.7423442449841605\n"
     ]
    }
   ],
   "source": [
    "acc = accuracy_score(data.val_ds.y, preds)\n",
    "print (\"accuracy for simplest model on validation dataset : \", acc)\n",
    "#this = 0.778, previous 0.758"
   ]
  },
  {
   "cell_type": "code",
   "execution_count": 43,
   "metadata": {},
   "outputs": [
    {
     "name": "stdout",
     "output_type": "stream",
     "text": [
      "[[ 12   0   0   1   3   0  34   0   2   0   0   0]\n",
      " [  0  68   2   0   1   3   0   0   0   0   4   0]\n",
      " [  0   4  40   1   1   2   1   0   2   3   2   1]\n",
      " [  0   0   1  99   0   3   4   0   5   2   6   2]\n",
      " [  5   0   0   0  26   3   7   0   3   0   0   0]\n",
      " [  1   2   2  11   1  70   2   0   2   2   0   2]\n",
      " [  5   0   0   1   2   0 117   0   5   0   0   0]\n",
      " [  0   1   0   0   0   1   0  38   1   0   0   3]\n",
      " [  0   1   1  19   0   2  10   0  69   0   0   1]\n",
      " [  0   0   0  13   0   1   1   0   8  12  11   0]\n",
      " [  0   1   3   2   0   1   1   0   0   1  90   0]\n",
      " [  0   2   0   6   0   4   1   0   2   0   0  62]]\n"
     ]
    },
    {
     "data": {
      "image/png": "[encoded data removed]",
      "text/plain": [
       "<Figure size 432x288 with 2 Axes>"
      ]
     },
     "metadata": {},
     "output_type": "display_data"
    }
   ],
   "source": [
    "cm = confusion_matrix(data.val_ds.y, preds)\n",
    "plot_confusion_matrix(cm, data.classes)"
   ]
  },
  {
   "cell_type": "code",
   "execution_count": 44,
   "metadata": {},
   "outputs": [],
   "source": [
    "learn.unfreeze()"
   ]
  },
  {
   "cell_type": "code",
   "execution_count": 45,
   "metadata": {},
   "outputs": [],
   "source": [
    "diff_learning_rates = [1e-4,1e-3,1e-2]\n",
    "lr=np.array(diff_learning_rates)"
   ]
  },
  {
   "cell_type": "code",
   "execution_count": 46,
   "metadata": {},
   "outputs": [
    {
     "data": {
      "application/vnd.jupyter.widget-view+json": {
       "model_id": "7464b48007ed4bdda5b96a10f378ffa4",
       "version_major": 2,
       "version_minor": 0
      },
      "text/html": [
       "<p>Failed to display Jupyter Widget of type <code>HBox</code>.</p>\n",
       "<p>\n",
       "  If you're reading this message in the Jupyter Notebook or JupyterLab Notebook, it may mean\n",
       "  that the widgets JavaScript is still loading. If this message persists, it\n",
       "  likely means that the widgets JavaScript library is either not installed or\n",
       "  not enabled. See the <a href=\"https://ipywidgets.readthedocs.io/en/stable/user_install.html\">Jupyter\n",
       "  Widgets Documentation</a> for setup instructions.\n",
       "</p>\n",
       "<p>\n",
       "  If you're reading this message in another frontend (for example, a static\n",
       "  rendering on GitHub or <a href=\"https://nbviewer.jupyter.org/\">NBViewer</a>),\n",
       "  it may mean that your frontend doesn't currently support widgets.\n",
       "</p>\n"
      ],
      "text/plain": [
       "HBox(children=(IntProgress(value=0, description='Epoch', max=7), HTML(value='')))"
      ]
     },
     "metadata": {},
     "output_type": "display_data"
    },
    {
     "name": "stdout",
     "output_type": "stream",
     "text": [
      "epoch      trn_loss   val_loss   accuracy                  \n",
      "    0      0.864531   0.741805   0.7596    \n",
      "    1      0.788112   0.667508   0.780699                  \n",
      "    2      0.726483   0.655481   0.787725                  \n",
      "    3      0.69441    0.609033   0.793709                  \n",
      "    4      0.636536   0.573884   0.81299                   \n",
      "    5      0.592814   0.559053   0.81585                   \n",
      "    6      0.574011   0.56338    0.808558                  \n",
      "\n",
      "elapsed time : 262.0006253020001\n"
     ]
    }
   ],
   "source": [
    "#this cell takes a loong time. skip and load model from previous training.\n",
    "start_time = timeit.default_timer()\n",
    "learn.fit(lr, 3, cycle_len=1, cycle_mult=2)\n",
    "print (\"elapsed time :\", timeit.default_timer() - start_time)\n"
   ]
  },
  {
   "cell_type": "code",
   "execution_count": null,
   "metadata": {},
   "outputs": [],
   "source": [
    "learn.sched.plot_lr()"
   ]
  },
  {
   "cell_type": "code",
   "execution_count": null,
   "metadata": {},
   "outputs": [],
   "source": [
    "start_time = timeit.default_timer()\n",
    "log_preds,y = learn.TTA()\n",
    "probs = np.mean(np.exp(log_preds),0)\n",
    "print (\"elapsed time :\", timeit.default_timer() - start_time)\n"
   ]
  },
  {
   "cell_type": "code",
   "execution_count": null,
   "metadata": {},
   "outputs": [],
   "source": [
    "#nb :type(learn)) #https://github.com/aspiringguru/fastai/blob/master/fastai/conv_learner.py\n",
    "probs.shape, probs[:, 0:2]\n",
    "preds = np.argmax(probs, axis=1)\n",
    "print (\"preds:\", preds.shape, np.unique(preds))\n",
    "acc = accuracy_score(data.val_ds.y, preds)\n",
    "print (\"accuracy on validation dataset after unfreeze + : \", acc)\n",
    "cm = confusion_matrix(data.val_ds.y, preds)\n",
    "plot_confusion_matrix(cm, data.classes)"
   ]
  },
  {
   "cell_type": "code",
   "execution_count": null,
   "metadata": {},
   "outputs": [],
   "source": [
    "type(learn)"
   ]
  },
  {
   "cell_type": "code",
   "execution_count": null,
   "metadata": {},
   "outputs": [],
   "source": [
    "learn.sched.plot_lr()"
   ]
  },
  {
   "cell_type": "code",
   "execution_count": null,
   "metadata": {},
   "outputs": [],
   "source": [
    "dir(data)"
   ]
  },
  {
   "cell_type": "code",
   "execution_count": null,
   "metadata": {},
   "outputs": [],
   "source": [
    "type(data.trn_dl)"
   ]
  },
  {
   "cell_type": "code",
   "execution_count": null,
   "metadata": {
    "scrolled": true
   },
   "outputs": [],
   "source": [
    "test_log_preds = learn.predict(is_test=True)\n",
    "test_preds = np.argmax(test_log_preds, axis=1)  # from log probabilities to 0 or 1"
   ]
  },
  {
   "cell_type": "code",
   "execution_count": null,
   "metadata": {},
   "outputs": [],
   "source": [
    "results = pd.DataFrame({\"file\": [i.split(\"/\")[1] for i in data.test_ds.fnames], \n",
    "                        \"species\":[classes[i] for i in test_preds]})\n",
    "print (type(results), results.shape)"
   ]
  },
  {
   "cell_type": "code",
   "execution_count": null,
   "metadata": {},
   "outputs": [],
   "source": [
    "results.to_csv('seedlings_bmt_reworked.csv', index=False)bb"
   ]
  },
  {
   "cell_type": "code",
   "execution_count": null,
   "metadata": {},
   "outputs": [],
   "source": [
    "!kaggle competitions submit -c plant-seedlings-classification -f /home/ec2-user/kaggleData/seedlings/seedlings_bmt_reworked.csv -m \"reworked\""
   ]
  }
 ],
 "metadata": {
  "kernelspec": {
   "display_name": "Python 3",
   "language": "python",
   "name": "python3"
  },
  "language_info": {
   "codemirror_mode": {
    "name": "ipython",
    "version": 3
   },
   "file_extension": ".py",
   "mimetype": "text/x-python",
   "name": "python",
   "nbconvert_exporter": "python",
   "pygments_lexer": "ipython3",
   "version": "3.6.4"
  }
 },
 "nbformat": 4,
 "nbformat_minor": 2
}
